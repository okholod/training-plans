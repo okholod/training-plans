{
 "cells": [
  {
   "cell_type": "markdown",
   "id": "a89ecf19",
   "metadata": {},
   "source": [
    "# 1 Python questions\n",
    "\n",
    "## 1.1 Python basic questions\n",
    "\n",
    "### <b> 1.1.1 Keywords in Python: </b>\n",
    "\n",
    "- <i> Python has a set of keywords that are reserved words that cannot be used as variable names, function names, or any other identifiers: if, def, set, list, while, with, pass, string, lambda ect. </i>\n",
    "\n",
    "\n",
    "### <b> 1.1.2 Literals in Python: </b>\n",
    "\n",
    "- <i> Literal is a raw data given in a variable or constant. In Python, there are various types of literals they are as follows: </i>\n",
    "- String literals:  is a sequence of characters surrounded by single, double, or tripl quotes.\n",
    "- Numeric literals: are immutable (unchangeable). It can belong to 3 different numerical types: Integer, Float, and Complex\n",
    "- Boolean literals: can have any of the two values: True or False.\n",
    "- Literal Collections: List literals, Tuple literals, Dict literals, and Set literals.\n",
    "- Special literals: Python contains one special literal i.e. None. We use it to specify that the field has not been created.\n",
    "\n",
    "\n",
    "### <b> 1.1.3 Dictionary in Python: </b>\n",
    "    \n",
    "- <i> Dictionaries are used to store data values in key:value pairs. A dictionary is a collection which is ordered from 3.7v, changeable and does not allow duplicates. </i>"
   ]
  },
  {
   "cell_type": "markdown",
   "id": "4a23d129",
   "metadata": {},
   "source": [
    "## 1.2 Python OOP\n",
    "\n",
    "### 1.2.1 Classes and objects in Python:\n",
    "\n",
    "- <i> A class is a user-defined blueprint or prototype from which objects are created. Classes provide a means of bundling data and functionality together. Creating a new class creates a new type of object, allowing new instances of that type to be made. </i> \n",
    "\n",
    "### 1.2.2 Create Classe \"human\" which would give out the name and the age of the person:"
   ]
  },
  {
   "cell_type": "code",
   "execution_count": 1,
   "id": "4f016575",
   "metadata": {},
   "outputs": [
    {
     "name": "stdout",
     "output_type": "stream",
     "text": [
      "Hello! My name is Anne! I'm 27 years old.\n"
     ]
    }
   ],
   "source": [
    "class Human:\n",
    "    def __init__(self, age, name):\n",
    "        self.age = age\n",
    "        self.name = name\n",
    "        \n",
    "    def say_hello(self):\n",
    "        print(f\"Hello! My name is {self.name}! I'm {self.age} years old.\")\n",
    "        \n",
    "anne = Human(27, 'Anne')\n",
    "anne.say_hello()"
   ]
  },
  {
   "cell_type": "markdown",
   "id": "5711bd3c",
   "metadata": {},
   "source": [
    "### 1.2.3 What is __init__ method in Python? Gave an example:\n",
    "\n",
    "- The __init__ method is used to initialize the object’s state. The task of init is to initialize(assign values) to the data members of the class when an object of class is created. \n",
    "\n",
    "### 1.2.3 What is inheritance in Python? Gave an example:\n",
    "- Inheritance allows us to define a class that inherits all the methods and properties from another class. \n",
    "\n",
    "In Python 3 we use MRO method:\n",
    "- pointer - make a decision at the specific point\n",
    "- inherit superclasses from left to right\n",
    "- Superclass can't go earlier than subclass."
   ]
  },
  {
   "cell_type": "code",
   "execution_count": 2,
   "id": "9baddc71",
   "metadata": {},
   "outputs": [
    {
     "name": "stdout",
     "output_type": "stream",
     "text": [
      "Hello! My name is Alina! I'm 27 years old.\n"
     ]
    }
   ],
   "source": [
    "class Human:\n",
    "    def __init__(self, age, name):\n",
    "        self.age = age\n",
    "        self.name = name\n",
    "        \n",
    "    def say_hello(self):\n",
    "        print(f\"Hello! My name is {self.name}! I'm {self.age} years old.\")\n",
    "        \n",
    "class Woman(Human):\n",
    "    pass\n",
    "\n",
    "alina = Woman(27, \"Alina\")\n",
    "alina.say_hello()"
   ]
  },
  {
   "cell_type": "markdown",
   "id": "9de3663f",
   "metadata": {},
   "source": [
    "## 1.5 Python. Others questions\n",
    "\n",
    "### 1.5.1 Open file in Python:"
   ]
  },
  {
   "cell_type": "code",
   "execution_count": 19,
   "id": "1ba2e536",
   "metadata": {},
   "outputs": [
    {
     "name": "stdout",
     "output_type": "stream",
     "text": [
      "There are 151 lines in the document\n"
     ]
    }
   ],
   "source": [
    "with open('iris.csv') as file:\n",
    "    lines = 0\n",
    "    for line in file:\n",
    "        lines += 1\n",
    "    print(f'There are {lines} lines in the document')"
   ]
  },
  {
   "cell_type": "markdown",
   "id": "18d92351",
   "metadata": {},
   "source": [
    "### 1.5.2 What is lambda functions. Write lambda function to add 10 to each number\n",
    "- lambda function is just like any normal python function, except that it has no name when defining it, and it is contained in one line of code\n"
   ]
  },
  {
   "cell_type": "code",
   "execution_count": 20,
   "id": "7720823e",
   "metadata": {},
   "outputs": [
    {
     "data": {
      "text/plain": [
       "[11, 12, 13, 14, 15, 16]"
      ]
     },
     "execution_count": 20,
     "metadata": {},
     "output_type": "execute_result"
    }
   ],
   "source": [
    "lst = [1, 2, 3, 4, 5, 6]\n",
    "\n",
    "lmbd = lambda x: x+10\n",
    "lst = [lmbd(i) for i in lst]\n",
    "lst"
   ]
  },
  {
   "cell_type": "markdown",
   "id": "79ceec51",
   "metadata": {},
   "source": [
    "### 1.5.3 What are modules in Python:\n",
    "\n",
    "- A module is a file containing Python definitions and statements. A module can define functions, classes, variables or runnable code. Grouping related code into a module makes the code easier to understand and use. It also makes the code logically organized."
   ]
  },
  {
   "cell_type": "markdown",
   "id": "d242aeed",
   "metadata": {},
   "source": [
    "### 1.5.4 How to randomise Python list?\n",
    "\n",
    "- usinf shuffle() function:\n",
    "\n",
    "from random import shuffle \n",
    "\n",
    "shuffle(list)\n"
   ]
  },
  {
   "cell_type": "markdown",
   "id": "74bbe1a5",
   "metadata": {},
   "source": [
    "### 1.5.4 Write a programm to get a lenght of a word without using len() function:"
   ]
  },
  {
   "cell_type": "code",
   "execution_count": 21,
   "id": "563e388a",
   "metadata": {},
   "outputs": [
    {
     "data": {
      "text/plain": [
       "13"
      ]
     },
     "execution_count": 21,
     "metadata": {},
     "output_type": "execute_result"
    }
   ],
   "source": [
    "\n",
    "def dig_count(word):\n",
    "    counter = 0\n",
    "    for letters in word:\n",
    "        counter += 1\n",
    "    return counter\n",
    "\n",
    "a = dig_count('ophtalmologue')\n",
    "a"
   ]
  },
  {
   "cell_type": "code",
   "execution_count": null,
   "id": "b3678166",
   "metadata": {},
   "outputs": [],
   "source": []
  }
 ],
 "metadata": {
  "kernelspec": {
   "display_name": "Python 3",
   "language": "python",
   "name": "python3"
  },
  "language_info": {
   "codemirror_mode": {
    "name": "ipython",
    "version": 3
   },
   "file_extension": ".py",
   "mimetype": "text/x-python",
   "name": "python",
   "nbconvert_exporter": "python",
   "pygments_lexer": "ipython3",
   "version": "3.8.8"
  },
  "toc": {
   "base_numbering": 1,
   "nav_menu": {},
   "number_sections": true,
   "sideBar": true,
   "skip_h1_title": false,
   "title_cell": "Table of Contents",
   "title_sidebar": "Contents",
   "toc_cell": false,
   "toc_position": {},
   "toc_section_display": true,
   "toc_window_display": false
  }
 },
 "nbformat": 4,
 "nbformat_minor": 5
}
